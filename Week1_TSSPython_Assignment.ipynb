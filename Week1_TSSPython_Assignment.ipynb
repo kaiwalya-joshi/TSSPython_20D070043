{
 "cells": [
  {
   "cell_type": "code",
   "execution_count": 46,
   "id": "ecb9e385",
   "metadata": {},
   "outputs": [],
   "source": [
    "File = open(\"HarryPotterAndTheSorcerersStone.txt\",'r')     #This helps in opening the file which is to be read"
   ]
  },
  {
   "cell_type": "code",
   "execution_count": 47,
   "id": "780dccd6",
   "metadata": {},
   "outputs": [],
   "source": [
    "DictionaryOfWords = {}         #Dictionary mapping every word to a list (of indices of the words' occurences)\n",
    "Novel = []                     #List of all words in the order, in which they appear!\n",
    "\n",
    "\n",
    "\n",
    "i = 0                   #Counter Variable to keep track of index of words\n",
    "\n",
    "for line in File.readlines():     #Iterate over all lines present in the text\n",
    "    \n",
    "    #Look at Python's Conciseness!\n",
    "    \n",
    "    line = line.replace(\".\",\"\").replace(\",\",\"\").replace('?','').replace('!','').replace('[','').replace(']','').replace('(','').replace(')','').replace('%','').replace('/','')\n",
    "      \n",
    "    #COMPLETE THE CODE FROM HERE:\n",
    "    \n",
    "    #This would split the line into many different words, and iterate over these words\n",
    "    \n",
    "    for word in line.split(' '): \n",
    "                                                                             \n",
    "        if word in DictionaryOfWords.keys():     #If the word is already present in the dictionary\n",
    "                                                                             \n",
    "            DictionaryOfWords[word].append(len(Novel))        #Add the index into the pre-existing list for this word\n",
    "                                                                             \n",
    "        else:\n",
    "            DictionaryOfWords[word] = [len(Novel)]        #Create a new list of indices for this word, with a single element\n",
    "                                                                             \n",
    "        \n",
    "        Novel.append(word)        #Add the Word in the Novel's ordered list of words\n",
    "                                                                             \n",
    "        i+=1"
   ]
  },
  {
   "cell_type": "code",
   "execution_count": 48,
   "id": "4ed74960",
   "metadata": {},
   "outputs": [],
   "source": [
    "#COMPLETE THE CODE FROM HERE:\n",
    "\n",
    "def GetQuery():\n",
    "   \n",
    "    word = input(\"Which word you want to search for: \")        #Get Input from the user regarding what word s/he wants to query for\n",
    "\n",
    "    Number = int(input(\"How many numbers you want: \"))      #Get Input from the user regarding how many results the user wants to see\n",
    "\n",
    "    return (word , Number)             #Return as output a tuple of the word and the Number of results"
   ]
  },
  {
   "cell_type": "code",
   "execution_count": 49,
   "id": "4e54371e",
   "metadata": {},
   "outputs": [],
   "source": [
    "def PrintContext(index):\n",
    "    \n",
    "    global Novel                          #Declares the list Novel as a Global Variable\n",
    "    \n",
    "    #COMPLETE THE CODE FROM HERE:\n",
    "    \n",
    "    for i in range(index-5,index+5) :           #Define the range so that the task above is fulfilled\n",
    "        \n",
    "        print(Novel[i], end = ' ')          #Print the word (using List Indexing) with a space after that\n",
    "        \n",
    "    print('\\n')"
   ]
  },
  {
   "cell_type": "code",
   "execution_count": 50,
   "id": "c70780e4",
   "metadata": {},
   "outputs": [],
   "source": [
    "def PrintResult(word, NumQuery):\n",
    "  \n",
    "    global DictionaryOfWords                #Allows us to use the Dictionary as a global variable\n",
    "    \n",
    "    #COMPLETE THE CODE FROM HERE:\n",
    "    \n",
    "    L = DictionaryOfWords[word] \n",
    "    \n",
    "    for i in range(0,min(len(L),NumQuery)):\n",
    "        \n",
    "        PrintContext(L[i]) "
   ]
  },
  {
   "cell_type": "code",
   "execution_count": 51,
   "id": "f8747656",
   "metadata": {},
   "outputs": [
    {
     "name": "stdout",
     "output_type": "stream",
     "text": [
      "Press Y in order to Continue with the next query or N to end.Please press Enter after entering your choice!\n",
      "Y\n",
      "Which word you want to search for: Harry\n",
      "How many numbers you want: 10\n",
      "\n",
      " “— yes their son Harry —”\n",
      " \n",
      " Mr Dursley \n",
      "\n",
      "who had a son called Harry Come to think of \n",
      "\n",
      "sure his nephew was called Harry He’d never even seen \n",
      "\n",
      "the name of heaven did Harry survive”\n",
      " \n",
      " “We can \n",
      "\n",
      "\n",
      " “I’ve come to bring Harry to his aunt and \n",
      "\n",
      "the street screaming for sweets Harry Potter come and live \n",
      "\n",
      "if today was known\n",
      " as Harry Potter Day in the \n",
      "\n",
      "will be books written\n",
      " about Harry — every child in \n",
      "\n",
      "thought he might be hiding Harry underneath\n",
      " it\n",
      " \n",
      " “Hagrid’s \n",
      "\n",
      "over with”\n",
      " \n",
      " Dumbledore took Harry in his arms and \n",
      "\n",
      "Press Y in order to Continue with the next query or N to end.Please press Enter after entering your choice!\n",
      "N\n"
     ]
    }
   ],
   "source": [
    "while 1>0 :   \n",
    "    \n",
    "    Choice = input('Press Y in order to Continue with the next query or N to end.Please press Enter after entering your choice!\\n')\n",
    "    \n",
    "    #COMPLETE THE CODE FROM HERE:\n",
    "    \n",
    "    if Choice == \"Y\" :                     # If the user wants to query \n",
    "        \n",
    "        M = GetQuery()\n",
    "        PrintResult(M[0], M[1])                        #Use some of the past defined function to do so\n",
    "        \n",
    "    else:\n",
    "        \n",
    "        break                                 #Else end the loop"
   ]
  },
  {
   "cell_type": "code",
   "execution_count": null,
   "id": "bcab2412",
   "metadata": {},
   "outputs": [],
   "source": []
  }
 ],
 "metadata": {
  "kernelspec": {
   "display_name": "Python 3",
   "language": "python",
   "name": "python3"
  },
  "language_info": {
   "codemirror_mode": {
    "name": "ipython",
    "version": 3
   },
   "file_extension": ".py",
   "mimetype": "text/x-python",
   "name": "python",
   "nbconvert_exporter": "python",
   "pygments_lexer": "ipython3",
   "version": "3.6.9"
  }
 },
 "nbformat": 4,
 "nbformat_minor": 5
}
